{
  "nbformat": 4,
  "nbformat_minor": 0,
  "metadata": {
    "colab": {
      "provenance": []
    },
    "kernelspec": {
      "name": "python3",
      "display_name": "Python 3"
    },
    "language_info": {
      "name": "python"
    }
  },
  "cells": [
    {
      "cell_type": "markdown",
      "source": [
        "<table>\n",
        "            <caption>Table 1. Translatable languages</caption>\n",
        "            <thead>\n",
        "              <tr class=\"doc-tr-even\">\n",
        "                <th>Language</th>\n",
        "                <th style=\"text-align:center\">Language code</th>\n",
        "                <th>Language</th>\n",
        "                <th style=\"text-align:center\">Language code</th>\n",
        "              </tr>\n",
        "            </thead>\n",
        "            <tbody>\n",
        "              <tr class=\"doc-tr-odd\">\n",
        "                <td><a href=\"#arabic\">Arabic</a></td>\n",
        "                <td style=\"text-align:center\"><code>ar</code></td>\n",
        "                <td><a href=\"#korean\">Korean</a></td>\n",
        "                <td style=\"text-align:center\"><code>ko</code></td>\n",
        "              </tr>\n",
        "              <tr class=\"doc-tr-even\">\n",
        "                <td><a href=\"#basque\">Basque</a> <strong>[1]</strong></td>\n",
        "                <td style=\"text-align:center\"><code>eu</code></td>\n",
        "                <td><a href=\"#latvian\">Latvian</a></td>\n",
        "                <td style=\"text-align:center\"><code>lv</code></td>\n",
        "              </tr>\n",
        "              <tr class=\"doc-tr-odd\">\n",
        "                <td><a href=\"#bengali\">Bengali</a></td>\n",
        "                <td style=\"text-align:center\"><code>bn</code></td>\n",
        "                <td><a href=\"#lithuanian\">Lithuanian</a></td>\n",
        "                <td style=\"text-align:center\"><code>lt</code></td>\n",
        "              </tr>\n",
        "              <tr class=\"doc-tr-even\">\n",
        "                <td><a href=\"#bosnian\">Bosnian</a></td>\n",
        "                <td style=\"text-align:center\"><code>bs</code></td>\n",
        "                <td><a href=\"#malay\">Malay</a></td>\n",
        "                <td style=\"text-align:center\"><code>ms</code></td>\n",
        "              </tr>\n",
        "              <tr class=\"doc-tr-odd\">\n",
        "                <td><a href=\"#bulgarian\">Bulgarian</a></td>\n",
        "                <td style=\"text-align:center\"><code>bg</code></td>\n",
        "                <td><a href=\"#malayalam\">Malayalam</a></td>\n",
        "                <td style=\"text-align:center\"><code>ml</code></td>\n",
        "              </tr>\n",
        "              <tr class=\"doc-tr-even\">\n",
        "                <td><a href=\"#catalan\">Catalan</a> <strong>[1]</strong></td>\n",
        "                <td style=\"text-align:center\"><code>ca</code></td>\n",
        "                <td><a href=\"#maltese\">Maltese</a></td>\n",
        "                <td style=\"text-align:center\"><code>mt</code></td>\n",
        "              </tr>\n",
        "              <tr class=\"doc-tr-odd\">\n",
        "                <td><a href=\"#chinese-simplified\">Chinese (Simplified)</a></td>\n",
        "                <td style=\"text-align:center\"><code>zh</code></td>\n",
        "                <td><a href=\"#montenegrin\">Montenegrin</a> <strong>[2]</strong></td>\n",
        "                <td style=\"text-align:center\"><code>cnr</code></td>\n",
        "              </tr>\n",
        "              <tr class=\"doc-tr-even\">\n",
        "                <td><a href=\"#chinese-traditional\">Chinese (Traditional)</a></td>\n",
        "                <td style=\"text-align:center\"><code>zh-TW</code></td>\n",
        "                <td><a href=\"#nepali\">Nepali</a></td>\n",
        "                <td style=\"text-align:center\"><code>ne</code></td>\n",
        "              </tr>\n",
        "              <tr class=\"doc-tr-odd\">\n",
        "                <td><a href=\"#croatian\">Croatian</a></td>\n",
        "                <td style=\"text-align:center\"><code>hr</code></td>\n",
        "                <td><a href=\"#norwegian-bokmal\">Norwegian Bokmål</a></td>\n",
        "                <td style=\"text-align:center\"><code>nb</code></td>\n",
        "              </tr>\n",
        "              <tr class=\"doc-tr-even\">\n",
        "                <td><a href=\"#czech\">Czech</a></td>\n",
        "                <td style=\"text-align:center\"><code>cs</code></td>\n",
        "                <td><a href=\"#polish\">Polish</a></td>\n",
        "                <td style=\"text-align:center\"><code>pl</code></td>\n",
        "              </tr>\n",
        "              <tr class=\"doc-tr-odd\">\n",
        "                <td><a href=\"#danish\">Danish</a></td>\n",
        "                <td style=\"text-align:center\"><code>da</code></td>\n",
        "                <td><a href=\"#portuguese\">Portuguese</a></td>\n",
        "                <td style=\"text-align:center\"><code>pt</code></td>\n",
        "              </tr>\n",
        "              <tr class=\"doc-tr-even\">\n",
        "                <td><a href=\"#dutch\">Dutch</a></td>\n",
        "                <td style=\"text-align:center\"><code>nl</code></td>\n",
        "                <td><a href=\"#romanian\">Romanian</a></td>\n",
        "                <td style=\"text-align:center\"><code>ro</code></td>\n",
        "              </tr>\n",
        "              <tr class=\"doc-tr-odd\">\n",
        "                <td><a href=\"#english\">English</a></td>\n",
        "                <td style=\"text-align:center\"><code>en</code></td>\n",
        "                <td><a href=\"#russian\">Russian</a></td>\n",
        "                <td style=\"text-align:center\"><code>ru</code></td>\n",
        "              </tr>\n",
        "              <tr class=\"doc-tr-even\">\n",
        "                <td><a href=\"#estonian\">Estonian</a></td>\n",
        "                <td style=\"text-align:center\"><code>et</code></td>\n",
        "                <td><a href=\"#serbian\">Serbian</a> <strong>[3]</strong></td>\n",
        "                <td style=\"text-align:center\"><code>sr</code></td>\n",
        "              </tr>\n",
        "              <tr class=\"doc-tr-odd\">\n",
        "                <td><a href=\"#finnish\">Finnish</a></td>\n",
        "                <td style=\"text-align:center\"><code>fi</code></td>\n",
        "                <td><a href=\"#sinhala\">Sinhala</a></td>\n",
        "                <td style=\"text-align:center\"><code>si</code></td>\n",
        "              </tr>\n",
        "              <tr class=\"doc-tr-even\">\n",
        "                <td><a href=\"#french\">French</a></td>\n",
        "                <td style=\"text-align:center\"><code>fr</code></td>\n",
        "                <td><a href=\"#slovak\">Slovak</a></td>\n",
        "                <td style=\"text-align:center\"><code>sk</code></td>\n",
        "              </tr>\n",
        "              <tr class=\"doc-tr-odd\">\n",
        "                <td><a href=\"#french-canadian\">French (Canadian)</a></td>\n",
        "                <td style=\"text-align:center\"><code>fr</code></td>\n",
        "                <td><a href=\"#slovenian\">Slovenian</a></td>\n",
        "                <td style=\"text-align:center\"><code>sl</code></td>\n",
        "              </tr>\n",
        "              <tr class=\"doc-tr-even\">\n",
        "                <td><a href=\"#german\">German</a></td>\n",
        "                <td style=\"text-align:center\"><code>de</code></td>\n",
        "                <td><a href=\"#spanish\">Spanish</a></td>\n",
        "                <td style=\"text-align:center\"><code>es</code></td>\n",
        "              </tr>\n",
        "              <tr class=\"doc-tr-odd\">\n",
        "                <td><a href=\"#greek\">Greek</a></td>\n",
        "                <td style=\"text-align:center\"><code>el</code></td>\n",
        "                <td><a href=\"#swedish\">Swedish</a></td>\n",
        "                <td style=\"text-align:center\"><code>sv</code></td>\n",
        "              </tr>\n",
        "              <tr class=\"doc-tr-even\">\n",
        "                <td><a href=\"#gujarati\">Gujarati</a></td>\n",
        "                <td style=\"text-align:center\"><code>gu</code></td>\n",
        "                <td><a href=\"#tamil\">Tamil</a></td>\n",
        "                <td style=\"text-align:center\"><code>ta</code></td>\n",
        "              </tr>\n",
        "              <tr class=\"doc-tr-odd\">\n",
        "                <td><a href=\"#hebrew\">Hebrew</a></td>\n",
        "                <td style=\"text-align:center\"><code>he</code></td>\n",
        "                <td><a href=\"#telugu\">Telugu</a></td>\n",
        "                <td style=\"text-align:center\"><code>te</code></td>\n",
        "              </tr>\n",
        "              <tr class=\"doc-tr-even\">\n",
        "                <td><a href=\"#hindi\">Hindi</a></td>\n",
        "                <td style=\"text-align:center\"><code>hi</code></td>\n",
        "                <td><a href=\"#thai\">Thai</a></td>\n",
        "                <td style=\"text-align:center\"><code>th</code></td>\n",
        "              </tr>\n",
        "              <tr class=\"doc-tr-odd\">\n",
        "                <td><a href=\"#hungarian\">Hungarian</a></td>\n",
        "                <td style=\"text-align:center\"><code>hu</code></td>\n",
        "                <td><a href=\"#turkish\">Turkish</a></td>\n",
        "                <td style=\"text-align:center\"><code>tr</code></td>\n",
        "              </tr>\n",
        "              <tr class=\"doc-tr-even\">\n",
        "                <td><a href=\"#irish\">Irish</a></td>\n",
        "                <td style=\"text-align:center\"><code>ga</code></td>\n",
        "                <td><a href=\"#ukrainian\">Ukrainian</a></td>\n",
        "                <td style=\"text-align:center\"><code>uk</code></td>\n",
        "              </tr>\n",
        "              <tr class=\"doc-tr-odd\">\n",
        "                <td><a href=\"#indonesian\">Indonesian</a></td>\n",
        "                <td style=\"text-align:center\"><code>id</code></td>\n",
        "                <td><a href=\"#urdu\">Urdu</a></td>\n",
        "                <td style=\"text-align:center\"><code>ur</code></td>\n",
        "              </tr>\n",
        "              <tr class=\"doc-tr-even\">\n",
        "                <td><a href=\"#italian\">Italian</a></td>\n",
        "                <td style=\"text-align:center\"><code>it</code></td>\n",
        "                <td><a href=\"#vietnamese\">Vietnamese</a></td>\n",
        "                <td style=\"text-align:center\"><code>vi</code></td>\n",
        "              </tr>\n",
        "              <tr class=\"doc-tr-odd\">\n",
        "                <td><a href=\"#japanese\">Japanese</a></td>\n",
        "                <td style=\"text-align:center\"><code>ja</code></td>\n",
        "                <td><a href=\"#welsh\">Welsh</a></td>\n",
        "                <td style=\"text-align:center\"><code>cy</code></td>\n",
        "              </tr>\n",
        "            </tbody>\n",
        "          </table>"
      ],
      "metadata": {
        "id": "YVndYTrr8KH0"
      }
    },
    {
      "cell_type": "code",
      "execution_count": 1,
      "metadata": {
        "id": "Q2yBYntQ6sMh"
      },
      "outputs": [],
      "source": [
        "from google.cloud import translate_v2 as translate\n",
        "import pandas as pd\n",
        "import os\n"
      ]
    },
    {
      "cell_type": "markdown",
      "source": [
        "\n",
        "# Set up Google Cloud credentials"
      ],
      "metadata": {
        "id": "ktJCaeCS7a_v"
      }
    },
    {
      "cell_type": "code",
      "source": [
        "os.environ[\"GOOGLE_APPLICATION_CREDENTIALS\"]=\"/content/google_cloud.json\""
      ],
      "metadata": {
        "id": "kVPlYzIn6w0O"
      },
      "execution_count": 2,
      "outputs": []
    },
    {
      "cell_type": "markdown",
      "source": [
        "# Initialize Translation client"
      ],
      "metadata": {
        "id": "kHUANvRJ7czC"
      }
    },
    {
      "cell_type": "code",
      "source": [
        "client = translate.Client()"
      ],
      "metadata": {
        "id": "3LvSXr4t6w3M"
      },
      "execution_count": 3,
      "outputs": []
    },
    {
      "cell_type": "markdown",
      "source": [
        "\n",
        "# Mimic langtranslator.translate class for compatibility with your example"
      ],
      "metadata": {
        "id": "mkN8NATb7gpM"
      }
    },
    {
      "cell_type": "code",
      "source": [
        "class TranslationResult:\n",
        "    def __init__(self, translated_text, detected_source_language):\n",
        "        self.result = {\n",
        "            \"translations\": [\n",
        "                {\n",
        "                    \"translatedText\": translated_text,\n",
        "                    \"detectedSourceLanguage\": detected_source_language\n",
        "                }\n",
        "            ]\n",
        "        }\n",
        "\n",
        "    def get_result(self):\n",
        "        return self.result"
      ],
      "metadata": {
        "id": "Mj0wq4f16w6K"
      },
      "execution_count": 4,
      "outputs": []
    },
    {
      "cell_type": "markdown",
      "source": [
        "\n",
        "# Function to translate text, mimicking langtranslator.translate"
      ],
      "metadata": {
        "id": "F-TCgoHj7ifx"
      }
    },
    {
      "cell_type": "code",
      "source": [
        "def translate(text, model_id=\"en-hi\"):\n",
        "    try:\n",
        "        source_lang, target_lang = model_id.split(\"-\")\n",
        "        result = client.translate(\n",
        "            text,\n",
        "            source_language=source_lang,\n",
        "            target_language=target_lang\n",
        "        )\n",
        "        return TranslationResult(result[\"translatedText\"], result.get(\"detectedSourceLanguage\", source_lang))\n",
        "    except Exception as e:\n",
        "        return TranslationResult(f\"Error: {str(e)}\", None)"
      ],
      "metadata": {
        "id": "OFzLlPnu6w9D"
      },
      "execution_count": 5,
      "outputs": []
    },
    {
      "cell_type": "markdown",
      "source": [
        "# Input text"
      ],
      "metadata": {
        "id": "jIEoThH77sFa"
      }
    },
    {
      "cell_type": "code",
      "source": [
        "text = \"\"\"According to consensus in modern genetics anatomically modern humans first arrived on the Indian subcontinent from Africa between 73,000 and 55,000 years ago.[1] However, the earliest known human remains in South Asia date to 30,000 years ago. Settled life, which involves the transition from foraging to farming and pastoralism, began in South Asia around 7,000 BCE. At the site of Mehrgarh presence can be documented of the domestication of wheat and barley, rapidly followed by that of goats, sheep, and cattle.[2] By 4,500 BCE, settled life had spread more widely,[2] and began to gradually evolve into the Indus Valley Civilization, an early civilization of the Old world, which was contemporaneous with Ancient Egypt and Mesopotamia. This civilisation flourished between 2,500 BCE and 1900 BCE in what today is Pakistan and north-western India, and was noted for its urban planning, baked brick houses, elaborate drainage, and water supply.[3]\"\"\""
      ],
      "metadata": {
        "id": "I2fBoKkF6xAI"
      },
      "execution_count": 6,
      "outputs": []
    },
    {
      "cell_type": "markdown",
      "source": [
        "\n",
        "# Perform translation"
      ],
      "metadata": {
        "id": "Kjal1ahV7rT6"
      }
    },
    {
      "cell_type": "code",
      "source": [
        "translation = translate(text=text, model_id=\"en-hi\")\n",
        "result = translation.get_result()"
      ],
      "metadata": {
        "id": "zh6x5AhU6xDB"
      },
      "execution_count": 7,
      "outputs": []
    },
    {
      "cell_type": "markdown",
      "source": [
        "# Extract translated text"
      ],
      "metadata": {
        "id": "z9MlgC607xn7"
      }
    },
    {
      "cell_type": "code",
      "source": [
        "translated_text = result[\"translations\"][0][\"translatedText\"]"
      ],
      "metadata": {
        "id": "QV4Ib_vZ6xF7"
      },
      "execution_count": 8,
      "outputs": []
    },
    {
      "cell_type": "markdown",
      "source": [
        "# Display results in a table"
      ],
      "metadata": {
        "id": "j7SCEnb-709t"
      }
    },
    {
      "cell_type": "code",
      "source": [
        "results = [{\n",
        "    \"Original Text\": text[:100] + \"...\" if len(text) > 100 else text,  # Truncate for display\n",
        "    \"Source Language\": \"en\",\n",
        "    \"Target Language\": \"hi\",\n",
        "    \"Translated Text\": translated_text\n",
        "}]\n",
        "\n",
        "df = pd.DataFrame(results)\n",
        "display(df)\n"
      ],
      "metadata": {
        "colab": {
          "base_uri": "https://localhost:8080/",
          "height": 89
        },
        "id": "F2xb0GHA6xIx",
        "outputId": "d7f4494d-22c1-42ea-ed33-25e92b86c5af"
      },
      "execution_count": 10,
      "outputs": [
        {
          "output_type": "display_data",
          "data": {
            "text/plain": [
              "                                       Original Text Source Language  \\\n",
              "0  According to consensus in modern genetics anat...              en   \n",
              "\n",
              "  Target Language                                    Translated Text  \n",
              "0              hi  आधुनिक आनुवंशिकी में आम सहमति के अनुसार शारीरि...  "
            ],
            "text/html": [
              "\n",
              "  <div id=\"df-59077b10-e743-4065-bad9-fb3368e4e028\" class=\"colab-df-container\">\n",
              "    <div>\n",
              "<style scoped>\n",
              "    .dataframe tbody tr th:only-of-type {\n",
              "        vertical-align: middle;\n",
              "    }\n",
              "\n",
              "    .dataframe tbody tr th {\n",
              "        vertical-align: top;\n",
              "    }\n",
              "\n",
              "    .dataframe thead th {\n",
              "        text-align: right;\n",
              "    }\n",
              "</style>\n",
              "<table border=\"1\" class=\"dataframe\">\n",
              "  <thead>\n",
              "    <tr style=\"text-align: right;\">\n",
              "      <th></th>\n",
              "      <th>Original Text</th>\n",
              "      <th>Source Language</th>\n",
              "      <th>Target Language</th>\n",
              "      <th>Translated Text</th>\n",
              "    </tr>\n",
              "  </thead>\n",
              "  <tbody>\n",
              "    <tr>\n",
              "      <th>0</th>\n",
              "      <td>According to consensus in modern genetics anat...</td>\n",
              "      <td>en</td>\n",
              "      <td>hi</td>\n",
              "      <td>आधुनिक आनुवंशिकी में आम सहमति के अनुसार शारीरि...</td>\n",
              "    </tr>\n",
              "  </tbody>\n",
              "</table>\n",
              "</div>\n",
              "    <div class=\"colab-df-buttons\">\n",
              "\n",
              "  <div class=\"colab-df-container\">\n",
              "    <button class=\"colab-df-convert\" onclick=\"convertToInteractive('df-59077b10-e743-4065-bad9-fb3368e4e028')\"\n",
              "            title=\"Convert this dataframe to an interactive table.\"\n",
              "            style=\"display:none;\">\n",
              "\n",
              "  <svg xmlns=\"http://www.w3.org/2000/svg\" height=\"24px\" viewBox=\"0 -960 960 960\">\n",
              "    <path d=\"M120-120v-720h720v720H120Zm60-500h600v-160H180v160Zm220 220h160v-160H400v160Zm0 220h160v-160H400v160ZM180-400h160v-160H180v160Zm440 0h160v-160H620v160ZM180-180h160v-160H180v160Zm440 0h160v-160H620v160Z\"/>\n",
              "  </svg>\n",
              "    </button>\n",
              "\n",
              "  <style>\n",
              "    .colab-df-container {\n",
              "      display:flex;\n",
              "      gap: 12px;\n",
              "    }\n",
              "\n",
              "    .colab-df-convert {\n",
              "      background-color: #E8F0FE;\n",
              "      border: none;\n",
              "      border-radius: 50%;\n",
              "      cursor: pointer;\n",
              "      display: none;\n",
              "      fill: #1967D2;\n",
              "      height: 32px;\n",
              "      padding: 0 0 0 0;\n",
              "      width: 32px;\n",
              "    }\n",
              "\n",
              "    .colab-df-convert:hover {\n",
              "      background-color: #E2EBFA;\n",
              "      box-shadow: 0px 1px 2px rgba(60, 64, 67, 0.3), 0px 1px 3px 1px rgba(60, 64, 67, 0.15);\n",
              "      fill: #174EA6;\n",
              "    }\n",
              "\n",
              "    .colab-df-buttons div {\n",
              "      margin-bottom: 4px;\n",
              "    }\n",
              "\n",
              "    [theme=dark] .colab-df-convert {\n",
              "      background-color: #3B4455;\n",
              "      fill: #D2E3FC;\n",
              "    }\n",
              "\n",
              "    [theme=dark] .colab-df-convert:hover {\n",
              "      background-color: #434B5C;\n",
              "      box-shadow: 0px 1px 3px 1px rgba(0, 0, 0, 0.15);\n",
              "      filter: drop-shadow(0px 1px 2px rgba(0, 0, 0, 0.3));\n",
              "      fill: #FFFFFF;\n",
              "    }\n",
              "  </style>\n",
              "\n",
              "    <script>\n",
              "      const buttonEl =\n",
              "        document.querySelector('#df-59077b10-e743-4065-bad9-fb3368e4e028 button.colab-df-convert');\n",
              "      buttonEl.style.display =\n",
              "        google.colab.kernel.accessAllowed ? 'block' : 'none';\n",
              "\n",
              "      async function convertToInteractive(key) {\n",
              "        const element = document.querySelector('#df-59077b10-e743-4065-bad9-fb3368e4e028');\n",
              "        const dataTable =\n",
              "          await google.colab.kernel.invokeFunction('convertToInteractive',\n",
              "                                                    [key], {});\n",
              "        if (!dataTable) return;\n",
              "\n",
              "        const docLinkHtml = 'Like what you see? Visit the ' +\n",
              "          '<a target=\"_blank\" href=https://colab.research.google.com/notebooks/data_table.ipynb>data table notebook</a>'\n",
              "          + ' to learn more about interactive tables.';\n",
              "        element.innerHTML = '';\n",
              "        dataTable['output_type'] = 'display_data';\n",
              "        await google.colab.output.renderOutput(dataTable, element);\n",
              "        const docLink = document.createElement('div');\n",
              "        docLink.innerHTML = docLinkHtml;\n",
              "        element.appendChild(docLink);\n",
              "      }\n",
              "    </script>\n",
              "  </div>\n",
              "\n",
              "\n",
              "  <div id=\"id_284762c0-1bcd-4977-9cdf-de4d0bde7822\">\n",
              "    <style>\n",
              "      .colab-df-generate {\n",
              "        background-color: #E8F0FE;\n",
              "        border: none;\n",
              "        border-radius: 50%;\n",
              "        cursor: pointer;\n",
              "        display: none;\n",
              "        fill: #1967D2;\n",
              "        height: 32px;\n",
              "        padding: 0 0 0 0;\n",
              "        width: 32px;\n",
              "      }\n",
              "\n",
              "      .colab-df-generate:hover {\n",
              "        background-color: #E2EBFA;\n",
              "        box-shadow: 0px 1px 2px rgba(60, 64, 67, 0.3), 0px 1px 3px 1px rgba(60, 64, 67, 0.15);\n",
              "        fill: #174EA6;\n",
              "      }\n",
              "\n",
              "      [theme=dark] .colab-df-generate {\n",
              "        background-color: #3B4455;\n",
              "        fill: #D2E3FC;\n",
              "      }\n",
              "\n",
              "      [theme=dark] .colab-df-generate:hover {\n",
              "        background-color: #434B5C;\n",
              "        box-shadow: 0px 1px 3px 1px rgba(0, 0, 0, 0.15);\n",
              "        filter: drop-shadow(0px 1px 2px rgba(0, 0, 0, 0.3));\n",
              "        fill: #FFFFFF;\n",
              "      }\n",
              "    </style>\n",
              "    <button class=\"colab-df-generate\" onclick=\"generateWithVariable('df')\"\n",
              "            title=\"Generate code using this dataframe.\"\n",
              "            style=\"display:none;\">\n",
              "\n",
              "  <svg xmlns=\"http://www.w3.org/2000/svg\" height=\"24px\"viewBox=\"0 0 24 24\"\n",
              "       width=\"24px\">\n",
              "    <path d=\"M7,19H8.4L18.45,9,17,7.55,7,17.6ZM5,21V16.75L18.45,3.32a2,2,0,0,1,2.83,0l1.4,1.43a1.91,1.91,0,0,1,.58,1.4,1.91,1.91,0,0,1-.58,1.4L9.25,21ZM18.45,9,17,7.55Zm-12,3A5.31,5.31,0,0,0,4.9,8.1,5.31,5.31,0,0,0,1,6.5,5.31,5.31,0,0,0,4.9,4.9,5.31,5.31,0,0,0,6.5,1,5.31,5.31,0,0,0,8.1,4.9,5.31,5.31,0,0,0,12,6.5,5.46,5.46,0,0,0,6.5,12Z\"/>\n",
              "  </svg>\n",
              "    </button>\n",
              "    <script>\n",
              "      (() => {\n",
              "      const buttonEl =\n",
              "        document.querySelector('#id_284762c0-1bcd-4977-9cdf-de4d0bde7822 button.colab-df-generate');\n",
              "      buttonEl.style.display =\n",
              "        google.colab.kernel.accessAllowed ? 'block' : 'none';\n",
              "\n",
              "      buttonEl.onclick = () => {\n",
              "        google.colab.notebook.generateWithVariable('df');\n",
              "      }\n",
              "      })();\n",
              "    </script>\n",
              "  </div>\n",
              "\n",
              "    </div>\n",
              "  </div>\n"
            ],
            "application/vnd.google.colaboratory.intrinsic+json": {
              "type": "dataframe",
              "variable_name": "df",
              "summary": "{\n  \"name\": \"df\",\n  \"rows\": 1,\n  \"fields\": [\n    {\n      \"column\": \"Original Text\",\n      \"properties\": {\n        \"dtype\": \"string\",\n        \"num_unique_values\": 1,\n        \"samples\": [\n          \"According to consensus in modern genetics anatomically modern humans first arrived on the Indian sub...\"\n        ],\n        \"semantic_type\": \"\",\n        \"description\": \"\"\n      }\n    },\n    {\n      \"column\": \"Source Language\",\n      \"properties\": {\n        \"dtype\": \"string\",\n        \"num_unique_values\": 1,\n        \"samples\": [\n          \"en\"\n        ],\n        \"semantic_type\": \"\",\n        \"description\": \"\"\n      }\n    },\n    {\n      \"column\": \"Target Language\",\n      \"properties\": {\n        \"dtype\": \"string\",\n        \"num_unique_values\": 1,\n        \"samples\": [\n          \"hi\"\n        ],\n        \"semantic_type\": \"\",\n        \"description\": \"\"\n      }\n    },\n    {\n      \"column\": \"Translated Text\",\n      \"properties\": {\n        \"dtype\": \"string\",\n        \"num_unique_values\": 1,\n        \"samples\": [\n          \"\\u0906\\u0927\\u0941\\u0928\\u093f\\u0915 \\u0906\\u0928\\u0941\\u0935\\u0902\\u0936\\u093f\\u0915\\u0940 \\u092e\\u0947\\u0902 \\u0906\\u092e \\u0938\\u0939\\u092e\\u0924\\u093f \\u0915\\u0947 \\u0905\\u0928\\u0941\\u0938\\u093e\\u0930 \\u0936\\u093e\\u0930\\u0940\\u0930\\u093f\\u0915 \\u0930\\u0942\\u092a \\u0938\\u0947 \\u0906\\u0927\\u0941\\u0928\\u093f\\u0915 \\u092e\\u093e\\u0928\\u0935 \\u092a\\u0939\\u0932\\u0940 \\u092c\\u093e\\u0930 73,000 \\u0938\\u0947 55,000 \\u0938\\u093e\\u0932 \\u092a\\u0939\\u0932\\u0947 \\u0905\\u092b\\u094d\\u0930\\u0940\\u0915\\u093e \\u0938\\u0947 \\u092d\\u093e\\u0930\\u0924\\u0940\\u092f \\u0909\\u092a\\u092e\\u0939\\u093e\\u0926\\u094d\\u0935\\u0940\\u092a \\u092a\\u0930 \\u092a\\u0939\\u0941\\u0902\\u091a\\u0947 \\u0925\\u0947\\u0964[1] \\u0939\\u093e\\u0932\\u093e\\u0902\\u0915\\u093f, \\u0926\\u0915\\u094d\\u0937\\u093f\\u0923 \\u090f\\u0936\\u093f\\u092f\\u093e \\u092e\\u0947\\u0902 \\u0938\\u092c\\u0938\\u0947 \\u092a\\u0939\\u0932\\u0947 \\u091c\\u094d\\u091e\\u093e\\u0924 \\u092e\\u093e\\u0928\\u0935 \\u0905\\u0935\\u0936\\u0947\\u0937 30,000 \\u0938\\u093e\\u0932 \\u092a\\u0939\\u0932\\u0947 \\u0915\\u0947 \\u0939\\u0948\\u0902\\u0964 \\u092c\\u0938\\u0947 \\u0939\\u0941\\u090f \\u091c\\u0940\\u0935\\u0928, \\u091c\\u093f\\u0938\\u092e\\u0947\\u0902 \\u091a\\u093e\\u0930\\u093e\\u0917\\u093e\\u0939 \\u0938\\u0947 \\u0916\\u0947\\u0924\\u0940 \\u0914\\u0930 \\u092a\\u0936\\u0941\\u092a\\u093e\\u0932\\u0928 \\u092e\\u0947\\u0902 \\u092a\\u0930\\u093f\\u0935\\u0930\\u094d\\u0924\\u0928 \\u0936\\u093e\\u092e\\u093f\\u0932 \\u0939\\u0948, \\u0926\\u0915\\u094d\\u0937\\u093f\\u0923 \\u090f\\u0936\\u093f\\u092f\\u093e \\u092e\\u0947\\u0902 \\u0932\\u0917\\u092d\\u0917 7,000 \\u0908\\u0938\\u093e \\u092a\\u0942\\u0930\\u094d\\u0935 \\u0936\\u0941\\u0930\\u0942 \\u0939\\u0941\\u0906\\u0964 \\u092e\\u0947\\u0939\\u0930\\u0917\\u0922\\u093c \\u0938\\u094d\\u0925\\u0932 \\u092a\\u0930 \\u0917\\u0947\\u0939\\u0942\\u0902 \\u0914\\u0930 \\u091c\\u094c \\u0915\\u0947 \\u092a\\u093e\\u0932\\u0928 \\u0915\\u0940 \\u0909\\u092a\\u0938\\u094d\\u0925\\u093f\\u0924\\u093f \\u0915\\u093e \\u0926\\u0938\\u094d\\u0924\\u093e\\u0935\\u0947\\u091c\\u0940\\u0915\\u0930\\u0923 \\u0915\\u093f\\u092f\\u093e \\u091c\\u093e \\u0938\\u0915\\u0924\\u093e \\u0939\\u0948, \\u091c\\u093f\\u0938\\u0915\\u0947 \\u0924\\u0941\\u0930\\u0902\\u0924 \\u092c\\u093e\\u0926 \\u092c\\u0915\\u0930\\u093f\\u092f\\u094b\\u0902, \\u092d\\u0947\\u0921\\u093c\\u094b\\u0902 \\u0914\\u0930 \\u092e\\u0935\\u0947\\u0936\\u093f\\u092f\\u094b\\u0902 \\u0915\\u094b \\u092a\\u093e\\u0932\\u093e \\u0917\\u092f\\u093e\\u0964[2] 4,500 \\u0908\\u0938\\u093e \\u092a\\u0942\\u0930\\u094d\\u0935 \\u0924\\u0915, \\u092c\\u0938\\u0947 \\u0939\\u0941\\u090f \\u091c\\u0940\\u0935\\u0928 \\u0905\\u0927\\u093f\\u0915 \\u0935\\u094d\\u092f\\u093e\\u092a\\u0915 \\u0930\\u0942\\u092a \\u0938\\u0947 \\u092b\\u0948\\u0932 \\u0917\\u092f\\u093e \\u0925\\u093e,[2] \\u0914\\u0930 \\u0927\\u0940\\u0930\\u0947-\\u0927\\u0940\\u0930\\u0947 \\u0938\\u093f\\u0902\\u0927\\u0941 \\u0918\\u093e\\u091f\\u0940 \\u0938\\u092d\\u094d\\u092f\\u0924\\u093e \\u092e\\u0947\\u0902 \\u0935\\u093f\\u0915\\u0938\\u093f\\u0924 \\u0939\\u094b\\u0928\\u093e \\u0936\\u0941\\u0930\\u0942 \\u0939\\u0941\\u0906, \\u091c\\u094b \\u092a\\u0941\\u0930\\u093e\\u0928\\u0940 \\u0926\\u0941\\u0928\\u093f\\u092f\\u093e \\u0915\\u0940 \\u090f\\u0915 \\u092a\\u094d\\u0930\\u093e\\u0930\\u0902\\u092d\\u093f\\u0915 \\u0938\\u092d\\u094d\\u092f\\u0924\\u093e \\u0925\\u0940, \\u091c\\u094b \\u092a\\u094d\\u0930\\u093e\\u091a\\u0940\\u0928 \\u092e\\u093f\\u0938\\u094d\\u0930 \\u0914\\u0930 \\u092e\\u0947\\u0938\\u094b\\u092a\\u094b\\u091f\\u093e\\u092e\\u093f\\u092f\\u093e \\u0915\\u0947 \\u0938\\u092e\\u0915\\u093e\\u0932\\u0940\\u0928 \\u0925\\u0940\\u0964 \\u092f\\u0939 \\u0938\\u092d\\u094d\\u092f\\u0924\\u093e 2,500 \\u0908\\u0938\\u093e \\u092a\\u0942\\u0930\\u094d\\u0935 \\u0914\\u0930 1900 \\u0908\\u0938\\u093e \\u092a\\u0942\\u0930\\u094d\\u0935 \\u0915\\u0947 \\u092c\\u0940\\u091a \\u0906\\u091c \\u0915\\u0947 \\u092a\\u093e\\u0915\\u093f\\u0938\\u094d\\u0924\\u093e\\u0928 \\u0914\\u0930 \\u0909\\u0924\\u094d\\u0924\\u0930-\\u092a\\u0936\\u094d\\u091a\\u093f\\u092e\\u0940 \\u092d\\u093e\\u0930\\u0924 \\u092e\\u0947\\u0902 \\u092b\\u0932\\u0940-\\u092b\\u0942\\u0932\\u0940, \\u0914\\u0930 \\u0905\\u092a\\u0928\\u0940 \\u0936\\u0939\\u0930\\u0940 \\u092f\\u094b\\u091c\\u0928\\u093e, \\u092a\\u0915\\u094d\\u0915\\u0940 \\u0908\\u0902\\u091f\\u094b\\u0902 \\u0915\\u0947 \\u0918\\u0930\\u094b\\u0902, \\u0935\\u093f\\u0938\\u094d\\u0924\\u0943\\u0924 \\u091c\\u0932 \\u0928\\u093f\\u0915\\u093e\\u0938\\u0940 \\u0914\\u0930 \\u091c\\u0932 \\u0906\\u092a\\u0942\\u0930\\u094d\\u0924\\u093f \\u0915\\u0947 \\u0932\\u093f\\u090f \\u0935\\u093f\\u0916\\u094d\\u092f\\u093e\\u0924 \\u0925\\u0940\\u0964[3]\"\n        ],\n        \"semantic_type\": \"\",\n        \"description\": \"\"\n      }\n    }\n  ]\n}"
            }
          },
          "metadata": {}
        }
      ]
    },
    {
      "cell_type": "code",
      "source": [
        "# Print full translated text\n",
        "print(\"\\nFull Translated Text:\")\n",
        "print(translated_text)"
      ],
      "metadata": {
        "colab": {
          "base_uri": "https://localhost:8080/"
        },
        "id": "pQTFW4Ks6xLe",
        "outputId": "76261b16-6989-4a59-8e46-378513ed146b"
      },
      "execution_count": 11,
      "outputs": [
        {
          "output_type": "stream",
          "name": "stdout",
          "text": [
            "\n",
            "Full Translated Text:\n",
            "आधुनिक आनुवंशिकी में आम सहमति के अनुसार शारीरिक रूप से आधुनिक मानव पहली बार 73,000 से 55,000 साल पहले अफ्रीका से भारतीय उपमहाद्वीप पर पहुंचे थे।[1] हालांकि, दक्षिण एशिया में सबसे पहले ज्ञात मानव अवशेष 30,000 साल पहले के हैं। बसे हुए जीवन, जिसमें चारागाह से खेती और पशुपालन में परिवर्तन शामिल है, दक्षिण एशिया में लगभग 7,000 ईसा पूर्व शुरू हुआ। मेहरगढ़ स्थल पर गेहूं और जौ के पालन की उपस्थिति का दस्तावेजीकरण किया जा सकता है, जिसके तुरंत बाद बकरियों, भेड़ों और मवेशियों को पाला गया।[2] 4,500 ईसा पूर्व तक, बसे हुए जीवन अधिक व्यापक रूप से फैल गया था,[2] और धीरे-धीरे सिंधु घाटी सभ्यता में विकसित होना शुरू हुआ, जो पुरानी दुनिया की एक प्रारंभिक सभ्यता थी, जो प्राचीन मिस्र और मेसोपोटामिया के समकालीन थी। यह सभ्यता 2,500 ईसा पूर्व और 1900 ईसा पूर्व के बीच आज के पाकिस्तान और उत्तर-पश्चिमी भारत में फली-फूली, और अपनी शहरी योजना, पक्की ईंटों के घरों, विस्तृत जल निकासी और जल आपूर्ति के लिए विख्यात थी।[3]\n"
          ]
        }
      ]
    },
    {
      "cell_type": "code",
      "source": [
        "input_text=\"\"\" তরুণ প্রজন্মকে নতুন এক বিশ্ব গড়তে সৃজনশীল হওয়ার আহ্বান জানিয়ে প্রধান উপদেষ্টা অধ্যাপক ড. মুহাম্মদ ইউনূস বলেছেন, চাকরি মানুষের সৃজনশীলতাকে দমন করে।\n",
        "\n",
        "শুক্রবার (৩০ মে) টোকিওর সোকা বিশ্ববিদ্যালয়ে বক্তৃতাকালে প্রধান উপদেষ্টা একথা বলেন।\n",
        "\n",
        "ড. ইউনূস বলেন, বর্তমান সভ্যতার কাঠামোর মধ্যে মানুষ টিকে থাকতে পারবে না, কারণ বিশ্বজুড়ে পরিবেশ ধ্বংস অব্যাহত আছে।\n",
        "\n",
        "তিনি তার ‘থ্রি জিরো থিওরি’ বা তিন শূন্য তত্ত্ব— শূন্য দারিদ্র্য, শূন্য বেকারত্ব, শূন্য নিট কার্বন নিঃসরণ-এর কথা উল্লেখ করে বলেন, এখন সবাই কেবল তাদের মুনাফা সর্বাধিক করতে চাচ্ছে।\n",
        "\n",
        "বিশ্বের সম্পদের সিংহভাগ এখন খুব অল্প কয়েকজনের হাতে কেন্দ্রীভূত, যাকে তিনি এক অভিশাপ হিসেবে উল্লেখ করেন।\n",
        "\n",
        "অধ্যাপক ইউনূস বেকারত্বের সমস্যা এবং কৃত্রিম বুদ্ধিমত্তার (এআই) আগত চ্যালেঞ্জগুলোর দিকেও আলোকপাত করেন।\n",
        "\n",
        "‘থ্রি জিরো ক্লাব’ সম্পর্কে তিনি বলেন, পাঁচজন ব্যক্তি একত্রিত হয়ে একটি থ্রি জিরো ক্লাব গঠন করতে পারে, যেখানে তারা প্রতিজ্ঞাবদ্ধ থাকবে যে তারা জীবাশ্ম জ্বালানি ব্যবহার করবে না।\n",
        "\n",
        "তরুণ প্রজন্মকে নতুন এক বিশ্ব গড়তে সৃজনশীল হওয়ার আহ্বান জানিয়ে এই নোবেলজয়ী অধ্যাপক ইউনূস বলেন, চাকরি মানুষের সৃজনশীলতাকে দমন করে।\n",
        "\n",
        "মানুষের সহজাত উদ্যোক্তা হওয়ার ক্ষমতার কথা উল্লেখ করে ড. ইউনূস বলেন, ‘যদি তোমার মধ্যে সৃজনশীলতা না থাকে, তবে তুমি কিছুই নও...প্রত্যেক মানুষের মধ্যেই সৃজনশীলতা আছে।’\n",
        "\n",
        "তিনি উদ্যোক্তা তৈরি করতে সামাজিক ব্যবসায় ক্লাব প্রতিষ্ঠার ওপর গুরুত্বারোপ করেন।\n",
        "\n",
        "ছাত্রছাত্রীদের উদ্দেশ্যে তিনি বলেন, ‘একটি নতুন পৃথিবী কল্পনা করো, কারণ কল্পনা তোমাকে নিজেকে উন্মুক্ত করার ক্ষমতা দেয়।’\n",
        "\n",
        "ড. ইউনূস অনুষ্ঠানে উপস্থিত দর্শকদের জানান কীভাবে তিনি চট্টগ্রাম বিশ্ববিদ্যালয়ের অর্থনীতি বিভাগের অধ্যাপক থাকাকালে পাশের একটি ছোট গ্রামে ক্ষুদ্রঋণের যাত্রা শুরু করেন।\"\"\""
      ],
      "metadata": {
        "id": "qInRwB8e6xOZ"
      },
      "execution_count": 12,
      "outputs": []
    },
    {
      "cell_type": "code",
      "source": [
        "translation=translate(text=input_text,model_id=\"bn-fi\")\n",
        "result=translation.get_result()\n",
        "translated_text=result['translations'][0]['translatedText']\n",
        "print(translated_text)"
      ],
      "metadata": {
        "colab": {
          "base_uri": "https://localhost:8080/"
        },
        "id": "tVhemoqg6xRt",
        "outputId": "5a085ed8-e1e8-4a0c-b528-50e42cec322d"
      },
      "execution_count": 14,
      "outputs": [
        {
          "output_type": "stream",
          "name": "stdout",
          "text": [
            " Pääneuvonantaja professori Dr. kehotti nuorta sukupolvea olemaan luova uuden maailman rakentamisessa. Muhammad Yunus sanoi, että työpaikat tukahduttavat ihmisten luovuuden. Pääneuvonantaja sanoi tämän puheessaan Sokan yliopistossa Tokiossa perjantaina (30. toukokuuta). Tohtori Yunus sanoi, että ihmiset eivät pysty selviytymään nykyisen sivilisaation puitteissa, koska ympäristön tuhoaminen jatkuu ympäri maailmaa. Viitaten &quot;kolmen nollan teoriaan&quot; – nolla köyhyyttä, nolla työttömyyttä, nolla hiilidioksidipäästöä – hän sanoi: &quot;Nyt kaikki haluavat vain maksimoida voittonsa.&quot; Suurin osa maailman vauraudesta on nyt keskittynyt hyvin harvojen käsiin, mitä hän kutsuu kiroukseksi. Professori Yunus valotti myös työttömyysongelmaa ja tekoälyn tulevia haasteita. ”Kolmen nollan klubista” hän sanoi, että viisi ihmistä voi muodostaa Kolmen nollan klubin, jossa he sitoutuvat olemaan käyttämättä fossiilisia polttoaineita. Nobel-palkittu professori Yunus kehotti nuorta sukupolvea olemaan luovia uuden maailman rakentamiseksi ja sanoi, että työpaikat tukahduttavat ihmisten luovuuden. Viitaten ihmisten synnynnäiseen yrittäjäkykyyn, tohtori Yunus sanoi: &quot;Jos sinulla ei ole luovuutta, et ole mitään...jokaisella on luovuutta.&quot; Hän korosti sosiaalisten yrityskerhojen perustamisen tärkeyttä yrittäjien luomiseksi. &quot;Kuvittele uusi maailma, koska mielikuvitus antaa sinulle voiman avata itsesi&quot;, hän sanoi opiskelijoille. Tohtori Yunus kertoi tilaisuuden yleisölle, kuinka hän aloitti mikrorahoituksen uransa pienessä lähellä sijaitsevassa kylässä ollessaan professorina Chittagongin yliopiston taloustieteen laitoksella.\n"
          ]
        }
      ]
    },
    {
      "cell_type": "code",
      "source": [
        "# Display results in a table\n",
        "results = [{\n",
        "    \"Original Text\": text[:100] + \"...\" if len(text) > 100 else text,  # Truncate for display\n",
        "    \"Source Language\": \"bn\",\n",
        "    \"Target Language\": \"fi\",\n",
        "    \"Translated Text\": translated_text\n",
        "}]\n",
        "df = pd.DataFrame(results)\n",
        "display(df)"
      ],
      "metadata": {
        "colab": {
          "base_uri": "https://localhost:8080/",
          "height": 89
        },
        "id": "0GzgEHuP8PGJ",
        "outputId": "99f6748c-410e-4b02-ef6c-ee3101303fc4"
      },
      "execution_count": 15,
      "outputs": [
        {
          "output_type": "display_data",
          "data": {
            "text/plain": [
              "                                       Original Text Source Language  \\\n",
              "0  According to consensus in modern genetics anat...              bn   \n",
              "\n",
              "  Target Language                                    Translated Text  \n",
              "0              fi   Pääneuvonantaja professori Dr. kehotti nuorta...  "
            ],
            "text/html": [
              "\n",
              "  <div id=\"df-7dfbfdeb-b550-4292-8b35-bd9908106a86\" class=\"colab-df-container\">\n",
              "    <div>\n",
              "<style scoped>\n",
              "    .dataframe tbody tr th:only-of-type {\n",
              "        vertical-align: middle;\n",
              "    }\n",
              "\n",
              "    .dataframe tbody tr th {\n",
              "        vertical-align: top;\n",
              "    }\n",
              "\n",
              "    .dataframe thead th {\n",
              "        text-align: right;\n",
              "    }\n",
              "</style>\n",
              "<table border=\"1\" class=\"dataframe\">\n",
              "  <thead>\n",
              "    <tr style=\"text-align: right;\">\n",
              "      <th></th>\n",
              "      <th>Original Text</th>\n",
              "      <th>Source Language</th>\n",
              "      <th>Target Language</th>\n",
              "      <th>Translated Text</th>\n",
              "    </tr>\n",
              "  </thead>\n",
              "  <tbody>\n",
              "    <tr>\n",
              "      <th>0</th>\n",
              "      <td>According to consensus in modern genetics anat...</td>\n",
              "      <td>bn</td>\n",
              "      <td>fi</td>\n",
              "      <td>Pääneuvonantaja professori Dr. kehotti nuorta...</td>\n",
              "    </tr>\n",
              "  </tbody>\n",
              "</table>\n",
              "</div>\n",
              "    <div class=\"colab-df-buttons\">\n",
              "\n",
              "  <div class=\"colab-df-container\">\n",
              "    <button class=\"colab-df-convert\" onclick=\"convertToInteractive('df-7dfbfdeb-b550-4292-8b35-bd9908106a86')\"\n",
              "            title=\"Convert this dataframe to an interactive table.\"\n",
              "            style=\"display:none;\">\n",
              "\n",
              "  <svg xmlns=\"http://www.w3.org/2000/svg\" height=\"24px\" viewBox=\"0 -960 960 960\">\n",
              "    <path d=\"M120-120v-720h720v720H120Zm60-500h600v-160H180v160Zm220 220h160v-160H400v160Zm0 220h160v-160H400v160ZM180-400h160v-160H180v160Zm440 0h160v-160H620v160ZM180-180h160v-160H180v160Zm440 0h160v-160H620v160Z\"/>\n",
              "  </svg>\n",
              "    </button>\n",
              "\n",
              "  <style>\n",
              "    .colab-df-container {\n",
              "      display:flex;\n",
              "      gap: 12px;\n",
              "    }\n",
              "\n",
              "    .colab-df-convert {\n",
              "      background-color: #E8F0FE;\n",
              "      border: none;\n",
              "      border-radius: 50%;\n",
              "      cursor: pointer;\n",
              "      display: none;\n",
              "      fill: #1967D2;\n",
              "      height: 32px;\n",
              "      padding: 0 0 0 0;\n",
              "      width: 32px;\n",
              "    }\n",
              "\n",
              "    .colab-df-convert:hover {\n",
              "      background-color: #E2EBFA;\n",
              "      box-shadow: 0px 1px 2px rgba(60, 64, 67, 0.3), 0px 1px 3px 1px rgba(60, 64, 67, 0.15);\n",
              "      fill: #174EA6;\n",
              "    }\n",
              "\n",
              "    .colab-df-buttons div {\n",
              "      margin-bottom: 4px;\n",
              "    }\n",
              "\n",
              "    [theme=dark] .colab-df-convert {\n",
              "      background-color: #3B4455;\n",
              "      fill: #D2E3FC;\n",
              "    }\n",
              "\n",
              "    [theme=dark] .colab-df-convert:hover {\n",
              "      background-color: #434B5C;\n",
              "      box-shadow: 0px 1px 3px 1px rgba(0, 0, 0, 0.15);\n",
              "      filter: drop-shadow(0px 1px 2px rgba(0, 0, 0, 0.3));\n",
              "      fill: #FFFFFF;\n",
              "    }\n",
              "  </style>\n",
              "\n",
              "    <script>\n",
              "      const buttonEl =\n",
              "        document.querySelector('#df-7dfbfdeb-b550-4292-8b35-bd9908106a86 button.colab-df-convert');\n",
              "      buttonEl.style.display =\n",
              "        google.colab.kernel.accessAllowed ? 'block' : 'none';\n",
              "\n",
              "      async function convertToInteractive(key) {\n",
              "        const element = document.querySelector('#df-7dfbfdeb-b550-4292-8b35-bd9908106a86');\n",
              "        const dataTable =\n",
              "          await google.colab.kernel.invokeFunction('convertToInteractive',\n",
              "                                                    [key], {});\n",
              "        if (!dataTable) return;\n",
              "\n",
              "        const docLinkHtml = 'Like what you see? Visit the ' +\n",
              "          '<a target=\"_blank\" href=https://colab.research.google.com/notebooks/data_table.ipynb>data table notebook</a>'\n",
              "          + ' to learn more about interactive tables.';\n",
              "        element.innerHTML = '';\n",
              "        dataTable['output_type'] = 'display_data';\n",
              "        await google.colab.output.renderOutput(dataTable, element);\n",
              "        const docLink = document.createElement('div');\n",
              "        docLink.innerHTML = docLinkHtml;\n",
              "        element.appendChild(docLink);\n",
              "      }\n",
              "    </script>\n",
              "  </div>\n",
              "\n",
              "\n",
              "  <div id=\"id_1874acb2-2408-416a-a81a-9c67412eec50\">\n",
              "    <style>\n",
              "      .colab-df-generate {\n",
              "        background-color: #E8F0FE;\n",
              "        border: none;\n",
              "        border-radius: 50%;\n",
              "        cursor: pointer;\n",
              "        display: none;\n",
              "        fill: #1967D2;\n",
              "        height: 32px;\n",
              "        padding: 0 0 0 0;\n",
              "        width: 32px;\n",
              "      }\n",
              "\n",
              "      .colab-df-generate:hover {\n",
              "        background-color: #E2EBFA;\n",
              "        box-shadow: 0px 1px 2px rgba(60, 64, 67, 0.3), 0px 1px 3px 1px rgba(60, 64, 67, 0.15);\n",
              "        fill: #174EA6;\n",
              "      }\n",
              "\n",
              "      [theme=dark] .colab-df-generate {\n",
              "        background-color: #3B4455;\n",
              "        fill: #D2E3FC;\n",
              "      }\n",
              "\n",
              "      [theme=dark] .colab-df-generate:hover {\n",
              "        background-color: #434B5C;\n",
              "        box-shadow: 0px 1px 3px 1px rgba(0, 0, 0, 0.15);\n",
              "        filter: drop-shadow(0px 1px 2px rgba(0, 0, 0, 0.3));\n",
              "        fill: #FFFFFF;\n",
              "      }\n",
              "    </style>\n",
              "    <button class=\"colab-df-generate\" onclick=\"generateWithVariable('df')\"\n",
              "            title=\"Generate code using this dataframe.\"\n",
              "            style=\"display:none;\">\n",
              "\n",
              "  <svg xmlns=\"http://www.w3.org/2000/svg\" height=\"24px\"viewBox=\"0 0 24 24\"\n",
              "       width=\"24px\">\n",
              "    <path d=\"M7,19H8.4L18.45,9,17,7.55,7,17.6ZM5,21V16.75L18.45,3.32a2,2,0,0,1,2.83,0l1.4,1.43a1.91,1.91,0,0,1,.58,1.4,1.91,1.91,0,0,1-.58,1.4L9.25,21ZM18.45,9,17,7.55Zm-12,3A5.31,5.31,0,0,0,4.9,8.1,5.31,5.31,0,0,0,1,6.5,5.31,5.31,0,0,0,4.9,4.9,5.31,5.31,0,0,0,6.5,1,5.31,5.31,0,0,0,8.1,4.9,5.31,5.31,0,0,0,12,6.5,5.46,5.46,0,0,0,6.5,12Z\"/>\n",
              "  </svg>\n",
              "    </button>\n",
              "    <script>\n",
              "      (() => {\n",
              "      const buttonEl =\n",
              "        document.querySelector('#id_1874acb2-2408-416a-a81a-9c67412eec50 button.colab-df-generate');\n",
              "      buttonEl.style.display =\n",
              "        google.colab.kernel.accessAllowed ? 'block' : 'none';\n",
              "\n",
              "      buttonEl.onclick = () => {\n",
              "        google.colab.notebook.generateWithVariable('df');\n",
              "      }\n",
              "      })();\n",
              "    </script>\n",
              "  </div>\n",
              "\n",
              "    </div>\n",
              "  </div>\n"
            ],
            "application/vnd.google.colaboratory.intrinsic+json": {
              "type": "dataframe",
              "variable_name": "df",
              "summary": "{\n  \"name\": \"df\",\n  \"rows\": 1,\n  \"fields\": [\n    {\n      \"column\": \"Original Text\",\n      \"properties\": {\n        \"dtype\": \"string\",\n        \"num_unique_values\": 1,\n        \"samples\": [\n          \"According to consensus in modern genetics anatomically modern humans first arrived on the Indian sub...\"\n        ],\n        \"semantic_type\": \"\",\n        \"description\": \"\"\n      }\n    },\n    {\n      \"column\": \"Source Language\",\n      \"properties\": {\n        \"dtype\": \"string\",\n        \"num_unique_values\": 1,\n        \"samples\": [\n          \"bn\"\n        ],\n        \"semantic_type\": \"\",\n        \"description\": \"\"\n      }\n    },\n    {\n      \"column\": \"Target Language\",\n      \"properties\": {\n        \"dtype\": \"string\",\n        \"num_unique_values\": 1,\n        \"samples\": [\n          \"fi\"\n        ],\n        \"semantic_type\": \"\",\n        \"description\": \"\"\n      }\n    },\n    {\n      \"column\": \"Translated Text\",\n      \"properties\": {\n        \"dtype\": \"string\",\n        \"num_unique_values\": 1,\n        \"samples\": [\n          \" P\\u00e4\\u00e4neuvonantaja professori Dr. kehotti nuorta sukupolvea olemaan luova uuden maailman rakentamisessa. Muhammad Yunus sanoi, ett\\u00e4 ty\\u00f6paikat tukahduttavat ihmisten luovuuden. P\\u00e4\\u00e4neuvonantaja sanoi t\\u00e4m\\u00e4n puheessaan Sokan yliopistossa Tokiossa perjantaina (30. toukokuuta). Tohtori Yunus sanoi, ett\\u00e4 ihmiset eiv\\u00e4t pysty selviytym\\u00e4\\u00e4n nykyisen sivilisaation puitteissa, koska ymp\\u00e4rist\\u00f6n tuhoaminen jatkuu ymp\\u00e4ri maailmaa. Viitaten &quot;kolmen nollan teoriaan&quot; \\u2013 nolla k\\u00f6yhyytt\\u00e4, nolla ty\\u00f6tt\\u00f6myytt\\u00e4, nolla hiilidioksidip\\u00e4\\u00e4st\\u00f6\\u00e4 \\u2013 h\\u00e4n sanoi: &quot;Nyt kaikki haluavat vain maksimoida voittonsa.&quot; Suurin osa maailman vauraudesta on nyt keskittynyt hyvin harvojen k\\u00e4siin, mit\\u00e4 h\\u00e4n kutsuu kiroukseksi. Professori Yunus valotti my\\u00f6s ty\\u00f6tt\\u00f6myysongelmaa ja teko\\u00e4lyn tulevia haasteita. \\u201dKolmen nollan klubista\\u201d h\\u00e4n sanoi, ett\\u00e4 viisi ihmist\\u00e4 voi muodostaa Kolmen nollan klubin, jossa he sitoutuvat olemaan k\\u00e4ytt\\u00e4m\\u00e4tt\\u00e4 fossiilisia polttoaineita. Nobel-palkittu professori Yunus kehotti nuorta sukupolvea olemaan luovia uuden maailman rakentamiseksi ja sanoi, ett\\u00e4 ty\\u00f6paikat tukahduttavat ihmisten luovuuden. Viitaten ihmisten synnynn\\u00e4iseen yritt\\u00e4j\\u00e4kykyyn, tohtori Yunus sanoi: &quot;Jos sinulla ei ole luovuutta, et ole mit\\u00e4\\u00e4n...jokaisella on luovuutta.&quot; H\\u00e4n korosti sosiaalisten yrityskerhojen perustamisen t\\u00e4rkeytt\\u00e4 yritt\\u00e4jien luomiseksi. &quot;Kuvittele uusi maailma, koska mielikuvitus antaa sinulle voiman avata itsesi&quot;, h\\u00e4n sanoi opiskelijoille. Tohtori Yunus kertoi tilaisuuden yleis\\u00f6lle, kuinka h\\u00e4n aloitti mikrorahoituksen uransa pieness\\u00e4 l\\u00e4hell\\u00e4 sijaitsevassa kyl\\u00e4ss\\u00e4 ollessaan professorina Chittagongin yliopiston taloustieteen laitoksella.\"\n        ],\n        \"semantic_type\": \"\",\n        \"description\": \"\"\n      }\n    }\n  ]\n}"
            }
          },
          "metadata": {}
        }
      ]
    },
    {
      "cell_type": "code",
      "source": [
        "print(\"\\nFull Translated Text:\")\n",
        "print(translated_text)"
      ],
      "metadata": {
        "colab": {
          "base_uri": "https://localhost:8080/"
        },
        "id": "WonNFAMH8PCq",
        "outputId": "d54a1fba-579e-4411-a64b-645cc8c6e117"
      },
      "execution_count": 16,
      "outputs": [
        {
          "output_type": "stream",
          "name": "stdout",
          "text": [
            "\n",
            "Full Translated Text:\n",
            " Pääneuvonantaja professori Dr. kehotti nuorta sukupolvea olemaan luova uuden maailman rakentamisessa. Muhammad Yunus sanoi, että työpaikat tukahduttavat ihmisten luovuuden. Pääneuvonantaja sanoi tämän puheessaan Sokan yliopistossa Tokiossa perjantaina (30. toukokuuta). Tohtori Yunus sanoi, että ihmiset eivät pysty selviytymään nykyisen sivilisaation puitteissa, koska ympäristön tuhoaminen jatkuu ympäri maailmaa. Viitaten &quot;kolmen nollan teoriaan&quot; – nolla köyhyyttä, nolla työttömyyttä, nolla hiilidioksidipäästöä – hän sanoi: &quot;Nyt kaikki haluavat vain maksimoida voittonsa.&quot; Suurin osa maailman vauraudesta on nyt keskittynyt hyvin harvojen käsiin, mitä hän kutsuu kiroukseksi. Professori Yunus valotti myös työttömyysongelmaa ja tekoälyn tulevia haasteita. ”Kolmen nollan klubista” hän sanoi, että viisi ihmistä voi muodostaa Kolmen nollan klubin, jossa he sitoutuvat olemaan käyttämättä fossiilisia polttoaineita. Nobel-palkittu professori Yunus kehotti nuorta sukupolvea olemaan luovia uuden maailman rakentamiseksi ja sanoi, että työpaikat tukahduttavat ihmisten luovuuden. Viitaten ihmisten synnynnäiseen yrittäjäkykyyn, tohtori Yunus sanoi: &quot;Jos sinulla ei ole luovuutta, et ole mitään...jokaisella on luovuutta.&quot; Hän korosti sosiaalisten yrityskerhojen perustamisen tärkeyttä yrittäjien luomiseksi. &quot;Kuvittele uusi maailma, koska mielikuvitus antaa sinulle voiman avata itsesi&quot;, hän sanoi opiskelijoille. Tohtori Yunus kertoi tilaisuuden yleisölle, kuinka hän aloitti mikrorahoituksen uransa pienessä lähellä sijaitsevassa kylässä ollessaan professorina Chittagongin yliopiston taloustieteen laitoksella.\n"
          ]
        }
      ]
    },
    {
      "cell_type": "code",
      "source": [],
      "metadata": {
        "id": "5I-x_k1P8O5I"
      },
      "execution_count": null,
      "outputs": []
    }
  ]
}